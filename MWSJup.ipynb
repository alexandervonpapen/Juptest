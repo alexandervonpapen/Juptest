{
 "cells": [
  {
   "cell_type": "markdown",
   "id": "a6f56984",
   "metadata": {},
   "source": [
    "Führen Sie zunächst die folgende Zelle aus."
   ]
  },
  {
   "cell_type": "code",
   "execution_count": null,
   "id": "b87ac237",
   "metadata": {},
   "outputs": [],
   "source": [
    "from manim import *\n",
    "from Diffpoint import diffpoint\n",
    "from Bisection import bisection"
   ]
  },
  {
   "cell_type": "markdown",
   "id": "e8b6f7f0",
   "metadata": {},
   "source": [
    "Geben Sie in der folgenden Box eine reelle Funktion und zwei Zahlen a, b mit a < b an, sodass f auf [a,b] differenzierbar ist. Schreiben Sie die Funktionsgleichung hinter das Wort \"return\". Führen Sie die Zelle anschließend aus.\n",
    "Nutzen Sie python-Syntax; hier einige Beispiele:\n",
    "2*x+1 (statt 2x+1)\n",
    "x**2 (statt x^2)\n",
    "np.sin(x) (statt sin(x))\n",
    "np.e**x (statt e^x)"
   ]
  },
  {
   "cell_type": "code",
   "execution_count": null,
   "id": "099f746a",
   "metadata": {},
   "outputs": [],
   "source": [
    "a=3\n",
    "b=-1   \n",
    "def h(x):\n",
    "     return np.arctan(x/2)"
   ]
  },
  {
   "cell_type": "markdown",
   "id": "380456c3",
   "metadata": {},
   "source": [
    "Führen Sie nun die folgende Zelle aus, um eine Ihren Eingaben angepasste Visualisierung des Mittelwertsatzes zu erhalten!"
   ]
  },
  {
   "cell_type": "code",
   "execution_count": null,
   "id": "971b6b67",
   "metadata": {},
   "outputs": [],
   "source": [
    "%%manim -v WARNING --progress_bar None --disable_caching -qm MWS\n",
    "class MWS(Scene):\n",
    "    def construct(self):\n",
    "        ax=Axes(\n",
    "            x_range=(-10,10,1),\n",
    "            y_range=(-2,2,1), \n",
    "            axis_config={\"include_numbers\": False,\"tip_shape\": StealthTip},\n",
    "            )\n",
    "    f= lambda x: h(x) \n",
    "    Pkta0=Dot(ax.coords_to_point(a,0,0),color=YELLOW)\n",
    "    Pktb0=Dot(ax.coords_to_point(b,0,0),color=YELLOW)\n",
    "    graph=ax.plot(f, color=BLUE)\n",
    "    PktA=Dot(ax.coords_to_point(a,f(a),0),color=YELLOW)\n",
    "    PktB=Dot(ax.coords_to_point(b,f(b),0),color=YELLOW)\n",
    "\n",
    "        \n",
    "        ###### Sekantensteigung\n",
    "    m=(f(b)-f(a))/(b-a)\n",
    "    y_0=-m*a+f(a)\n",
    "    m2=round(m,3)\n",
    "        \n",
    "\n",
    "    g= lambda x: diffpoint(f,x)-m\n",
    "    Xi=bisection(g,a,b,1e-6)\n",
    "    Xidot=Dot(ax.coords_to_point(Xi,f(Xi),0))\n",
    "    PktXi0=Dot(ax.coords_to_point(Xi,0,0))\n",
    "\n",
    "    sek=ax.plot(lambda x: m*x+y_0,color=RED)\n",
    "    tang=ax.plot(lambda x: m*(x-Xi)+f(Xi),color=RED)\n",
    "    Dreieckpkt=Dot(ax.coords_to_point(b,f(a),0),radius=0.000001)\n",
    "    Tri1=Line(PktA,Dreieckpkt)\n",
    "    Tri2=Line(PktB,Dreieckpkt)\n",
    "    TriR=MathTex(r\"f(b)-f(a)\")\n",
    "    TriD=MathTex(r\"b-a\")\n",
    "    GL1=MathTex(r\"\\frac{f(b)-f(a)}{b-a}\",color=WHITE).shift(3*UP,4.5*LEFT)\n",
    "    XiTex=MathTex(r\"\\xi\")\n",
    "    if f(Xi)<0:\n",
    "            XiTex.next_to(PktXi0,0.8*UP)\n",
    "    else:\n",
    "            XiTex.next_to(PktXi0,0.8*DOWN)\n",
    "    GL2=MathTex(r\"=f'(\\xi)\").next_to(GL1,RIGHT)\n",
    "    GL3=MathTex(r\"={}\".format (m2)).next_to(GL1,RIGHT)\n",
    "    Xir=round(Xi,3)\n",
    "    GL4=MathTex(r\"=f'({})\".format (Xir)).next_to(GL1,RIGHT)\n",
    "\n",
    "\n",
    "\n",
    "        ##### Uuuuund Action\n",
    "        self.add(ax)\n",
    "        self.play(Create(graph))\n",
    "        self.play(FadeIn(Pkta0),FadeIn(Pktb0))\n",
    "        self.play(Transform(Pkta0,PktA),Transform(Pktb0,PktB))\n",
    "        self.play(Create(sek),run_time=2)\n",
    "        self.play(FadeIn(Tri1),FadeIn(Tri2))\n",
    "        self.wait(2)\n",
    "\n",
    "        self.play(Transform(Tri1,GL1),Transform(Tri2,GL1))\n",
    "        self.wait(1)\n",
    "        self.play(Write(GL3))\n",
    "        self.wait(1)\n",
    "        self.play(TransformFromCopy(sek,tang))\n",
    "        self.play(FadeIn(Xidot))\n",
    "        #self.play(Create(tang))\n",
    "        self.wait(2)\n",
    "        self.play(FadeOut(sek))\n",
    "        self.play(Transform(GL3,GL4))\n",
    "        self.wait(2)\n",
    "        self.play(Transform(Xidot,PktXi0),FadeIn(XiTex))\n",
    "        self.wait(1)\n",
    "        self.play(Transform(GL3,GL2))\n",
    "\n",
    "\n",
    "\n",
    "\n",
    "        \n"
   ]
  }
 ],
 "metadata": {
  "kernelspec": {
   "display_name": "Python 3",
   "language": "python",
   "name": "python3"
  },
  "language_info": {
   "name": "python",
   "version": "3.13.7"
  }
 },
 "nbformat": 4,
 "nbformat_minor": 5
}
